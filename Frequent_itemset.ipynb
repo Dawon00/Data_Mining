{
  "cells": [
    {
      "cell_type": "markdown",
      "metadata": {
        "id": "dzY2BXGwJccr"
      },
      "source": [
        "# Homework 1. Frequent itemset"
      ]
    },
    {
      "cell_type": "markdown",
      "metadata": {
        "id": "NEjnRBw1Jccu"
      },
      "source": [
        "***Double Click here to edit this cell***\n",
        "\n",
        "- Name: 서다원\n",
        "- Student ID: 202001707\n",
        "- Submission date: 2022.03.23"
      ]
    },
    {
      "cell_type": "markdown",
      "metadata": {
        "id": "LOmug2NVJccv"
      },
      "source": [
        "*Remark. Do not import numpy, pandas, sklearn, or any module implementing the solution directly*"
      ]
    },
    {
      "cell_type": "markdown",
      "metadata": {
        "id": "Ge9XgGG2Jccv"
      },
      "source": [
        "## Frequent itemset\n",
        "- ***Support*** is an indication of how frequently the itemset $X$ appears in the dataset $T$.\n",
        "- The support of X with respect to T is defined as the proportion of transactions t in the dataset which contains the itemset X.\n",
        "\n",
        "$$\n",
        "{\\displaystyle \\mathrm {supp} (X)={\\frac {|\\{t\\in T;X\\subseteq t\\}|}{|T|}}} \n",
        "$$\n",
        "\n",
        "- Frequent itemset is an itemset whose support $\\ge$ ***min_sup***."
      ]
    },
    {
      "cell_type": "markdown",
      "metadata": {
        "id": "AIasHEUkJccw"
      },
      "source": [
        "## Data set\n",
        "\n",
        "- Each line in the following can be imagined as a market basket, which contains items you buy."
      ]
    },
    {
      "cell_type": "code",
      "execution_count": 1,
      "metadata": {
        "id": "mwIztvdmJccw"
      },
      "outputs": [],
      "source": [
        "# DO NOT EDIT THIS CELL\n",
        "data_str = 'apple,beer,rice,chicken\\n'\n",
        "data_str += 'apple,beer,rice\\n'\n",
        "data_str += 'apple,beer\\n'\n",
        "data_str += 'apple,mango\\n'\n",
        "data_str += 'milk,beer,rice,chicken\\n'\n",
        "data_str += 'milk,beer,rice\\n'\n",
        "data_str += 'milk,beer\\n'\n",
        "data_str += 'milk,mango'"
      ]
    },
    {
      "cell_type": "markdown",
      "metadata": {
        "id": "ZJZdmOSoJccx"
      },
      "source": [
        "## Problem 1 (2 pts)\n",
        "\n",
        "- Define a function ***record_gen*** generating a list of items each ***next***.\n",
        "- It must be a generator.\n",
        "- Use ***yield*** instead of ***return***"
      ]
    },
    {
      "cell_type": "code",
      "execution_count": 2,
      "metadata": {
        "hide_input": false,
        "id": "OSz8lMU5Jccy"
      },
      "outputs": [],
      "source": [
        "# YOUR CODE MUST BE HERE\n",
        "\n",
        "def gen_record(data_str):\n",
        "  data_str = data_str.split('\\n')\n",
        "  i=0\n",
        "  while i<len(data_str):\n",
        "    yield data_str[i].split(',')\n",
        "    i+=1\n"
      ]
    },
    {
      "cell_type": "code",
      "execution_count": 3,
      "metadata": {
        "colab": {
          "base_uri": "https://localhost:8080/"
        },
        "id": "PvvZ39A5Jccy",
        "outputId": "5c453ccb-4b99-4139-84aa-7e8f3465d804"
      },
      "outputs": [
        {
          "output_type": "stream",
          "name": "stdout",
          "text": [
            "['apple', 'beer', 'chicken', 'rice']\n"
          ]
        }
      ],
      "source": [
        "# DO NOT EDIT THIS CELL\n",
        "test = gen_record(data_str)\n",
        "print(sorted(next(test)))"
      ]
    },
    {
      "cell_type": "markdown",
      "metadata": {
        "id": "neMpGeHSJccz"
      },
      "source": [
        "**Your output must be:**\n",
        "```\n",
        "['apple', 'beer', 'chicken', 'rice']\n",
        "```"
      ]
    },
    {
      "cell_type": "code",
      "execution_count": 4,
      "metadata": {
        "colab": {
          "base_uri": "https://localhost:8080/"
        },
        "id": "z_KkMuSlJccz",
        "outputId": "3ba82a0b-01c2-4472-9e06-dc4084fceeff"
      },
      "outputs": [
        {
          "output_type": "stream",
          "name": "stdout",
          "text": [
            "['apple', 'beer', 'rice']\n"
          ]
        }
      ],
      "source": [
        "# DO NOT EDIT THIS CELL\n",
        "print(sorted(next(test)))"
      ]
    },
    {
      "cell_type": "markdown",
      "metadata": {
        "id": "Yu-d9hsJJcc0"
      },
      "source": [
        "**Your output must be:**\n",
        "```\n",
        "['apple', 'beer', 'rice']\n",
        "```"
      ]
    },
    {
      "cell_type": "markdown",
      "metadata": {
        "id": "L2FlN-eKJcc0"
      },
      "source": [
        "## Problem 2 (10 pts)\n",
        "\n",
        "- Define a function ***gen_frequent_1_itemset*** generating 1-itemset.\n",
        "- It must be a generator.\n",
        "- We want to find frequent 1-itemset (itemset containing only 1 item)\n",
        "- Use \"set, reduce, map\" at least once"
      ]
    },
    {
      "cell_type": "code",
      "execution_count": 5,
      "metadata": {
        "id": "EQ4fRJSRJcc0"
      },
      "outputs": [],
      "source": [
        "# YOUR CODE MUST BE HERE\n",
        "from functools import reduce\n",
        "def gen_frequent_1_itemset(dataset, mins_up):\n",
        "  #dataset는 2차원 리스트 형식\n",
        "  itemset = set() #아이템의 종류(중복없는)\n",
        "  items = list(reduce(lambda x,y:x+y,dataset)) #아이템들이 1차원으로 들어가있는 리스트\n",
        "  item_count = {} # {아이템 : 개수}형식의 딕셔너리\n",
        "  for item in items:\n",
        "    itemset.add(item) #아이템의 종류 개수\n",
        "     \n",
        "    if item in item_count.keys():\n",
        "      item_count[item] += 1\n",
        "    else:\n",
        "      item_count[item] = 1\n",
        "  itemset = sorted(list(map(str,itemset)))\n",
        "  item_count = sorted(item_count.items()) \n",
        "  item_count = dict(item_count)\n",
        "  \n",
        "  for group, count in item_count.items():\n",
        "    if count >= (len(dataset) * mins_up):\n",
        "      yield group"
      ]
    },
    {
      "cell_type": "code",
      "execution_count": 6,
      "metadata": {
        "colab": {
          "base_uri": "https://localhost:8080/"
        },
        "id": "sJBNqRmNJcc0",
        "outputId": "5268dacc-c753-4519-e7a3-5755e0232ce6"
      },
      "outputs": [
        {
          "output_type": "stream",
          "name": "stdout",
          "text": [
            "['apple', 'beer', 'milk', 'rice']\n"
          ]
        }
      ],
      "source": [
        "# DO NOT EDIT THIS CELL\n",
        "dataset = list(gen_record(data_str))\n",
        "print(sorted(list(gen_frequent_1_itemset(dataset, 0.5))))"
      ]
    },
    {
      "cell_type": "markdown",
      "metadata": {
        "id": "LMdZDxRtJcc1"
      },
      "source": [
        "**Your output must be (sorted list):**\n",
        "```\n",
        "['apple', 'beer', 'milk', 'rice']\n",
        "```"
      ]
    },
    {
      "cell_type": "code",
      "execution_count": 7,
      "metadata": {
        "colab": {
          "base_uri": "https://localhost:8080/"
        },
        "id": "tpVnwdu0Jcc1",
        "outputId": "564fc3a8-84c3-4fe5-b8ba-831905df25a8"
      },
      "outputs": [
        {
          "output_type": "stream",
          "name": "stdout",
          "text": [
            "['beer']\n"
          ]
        }
      ],
      "source": [
        "# DO NOT EDIT THIS CELL\n",
        "dataset = list(gen_record(data_str))\n",
        "print(sorted(list(gen_frequent_1_itemset(dataset, 0.7))))"
      ]
    },
    {
      "cell_type": "markdown",
      "metadata": {
        "id": "RbjTRrbLJcc1"
      },
      "source": [
        "**Your output must be (sorted list):**\n",
        "```\n",
        "['beer']\n",
        "```"
      ]
    },
    {
      "cell_type": "code",
      "execution_count": 8,
      "metadata": {
        "hide_input": false,
        "colab": {
          "base_uri": "https://localhost:8080/"
        },
        "id": "LQlhf0fqJcc1",
        "outputId": "dea32049-846c-4319-a568-3a0334ac698d"
      },
      "outputs": [
        {
          "output_type": "stream",
          "name": "stdout",
          "text": [
            "['apple', 'beer', 'chicken', 'mango', 'milk', 'rice']\n"
          ]
        }
      ],
      "source": [
        "# DO NOT EDIT THIS CELL\n",
        "dataset = list(gen_record(data_str))\n",
        "print(sorted(list(gen_frequent_1_itemset(dataset, 0.2))))"
      ]
    },
    {
      "cell_type": "markdown",
      "metadata": {
        "id": "nv50qIwPJcc2"
      },
      "source": [
        "**Your output must be (sorted list):**\n",
        "```\n",
        "['apple', 'beer', 'chicken', 'mango', 'milk', 'rice']\n",
        "```"
      ]
    },
    {
      "cell_type": "markdown",
      "metadata": {
        "id": "NliS-hOzJcc2"
      },
      "source": [
        "## Problem 3 (10 pts)\n",
        "\n",
        "- Define a function ***gen_frequent_2_itemset*** generating 2-itemset.\n",
        "- It must be a generator.\n",
        "- We want to find frequent 2-itemset (itemset containing only 2 items)\n",
        "- Use \"set, reduce, map\" at least once"
      ]
    },
    {
      "cell_type": "code",
      "execution_count": 9,
      "metadata": {
        "id": "RQ0ivWj6Jcc2"
      },
      "outputs": [],
      "source": [
        "# YOUR CODE MUST BE HERE\n",
        "from functools import reduce\n",
        "def gen_frequent_2_itemset(dataset, mins_up):\n",
        "  #dataset는 2차원 리스트 형식\n",
        "  itemset = set() #아이템의 종류(중복없는)\n",
        "  items = list(reduce(lambda x,y:x+y,dataset)) #아이템들이 1차원으로 들어가있는 리스트\n",
        "  item_count = {} # {아이템 : 개수}형식의 딕셔너리\n",
        "  data_list=[]\n",
        "  #fre_item = []\n",
        "  for data in dataset:\n",
        "    for x in range(0,len(data)): #data는 ['apple','beer','rice','chicken'] 꼴\n",
        "      itemset.add(data[x]) #아이템의 종류 개수\n",
        "      for y in range(x+1,len(data)):\n",
        "        data_list.insert(0,data[x])\n",
        "        data_list.insert(1,data[y])\n",
        "        data_list.sort()\n",
        "        #print(data_list)\n",
        "        group = tuple(map(str, data_list))\n",
        "        if group in item_count.keys():\n",
        "          item_count[group] += 1\n",
        "          data_list=[]\n",
        "        else:\n",
        "          item_count[group] = 1\n",
        "          data_list=[]\n",
        "  item_count = sorted(item_count.items()) #tuple pair로 이루어진 list 반환\n",
        "  item_count = dict(item_count)\n",
        "  for group, count in item_count.items():\n",
        "    if count >= (len(dataset) * mins_up):\n",
        "      yield group"
      ]
    },
    {
      "cell_type": "code",
      "execution_count": 10,
      "metadata": {
        "colab": {
          "base_uri": "https://localhost:8080/"
        },
        "id": "3B0a07eFJcc2",
        "outputId": "09ed7a79-643a-4644-be88-756b4c1db420"
      },
      "outputs": [
        {
          "output_type": "stream",
          "name": "stdout",
          "text": [
            "[('beer', 'rice')]\n"
          ]
        }
      ],
      "source": [
        "# DO NOT EDIT THIS CELL\n",
        "dataset = list(gen_record(data_str))\n",
        "print(sorted(list(gen_frequent_2_itemset(dataset, 0.5))))"
      ]
    },
    {
      "cell_type": "markdown",
      "metadata": {
        "id": "yN9JUmZjJcc3"
      },
      "source": [
        "**Your output must be:**\n",
        "```\n",
        "[('beer', 'rice')]\n",
        "```"
      ]
    },
    {
      "cell_type": "code",
      "execution_count": 11,
      "metadata": {
        "colab": {
          "base_uri": "https://localhost:8080/"
        },
        "id": "1cPOrn14Jcc3",
        "outputId": "28a99bfb-4ec8-4d26-ce1a-51922254cef3"
      },
      "outputs": [
        {
          "output_type": "stream",
          "name": "stdout",
          "text": [
            "[('apple', 'beer'), ('beer', 'milk'), ('beer', 'rice')]\n"
          ]
        }
      ],
      "source": [
        "# DO NOT EDIT THIS CELL\n",
        "dataset = list(gen_record(data_str))\n",
        "print(sorted(list(gen_frequent_2_itemset(dataset, 0.3))))"
      ]
    },
    {
      "cell_type": "markdown",
      "metadata": {
        "id": "e-au6C9XJcc3"
      },
      "source": [
        "**Your output must be:**\n",
        "```\n",
        "[('apple', 'beer'), ('beer', 'milk'), ('beer', 'rice')]\n",
        "```"
      ]
    },
    {
      "cell_type": "code",
      "execution_count": 12,
      "metadata": {
        "colab": {
          "base_uri": "https://localhost:8080/"
        },
        "id": "bHJNsvmhJcc3",
        "outputId": "8e18fc1b-2973-4f26-e83f-16b22352b3e5"
      },
      "outputs": [
        {
          "output_type": "stream",
          "name": "stdout",
          "text": [
            "[('apple', 'beer'), ('apple', 'rice'), ('beer', 'chicken'), ('beer', 'milk'), ('beer', 'rice'), ('chicken', 'rice'), ('milk', 'rice')]\n"
          ]
        }
      ],
      "source": [
        "# DO NOT EDIT THIS CELL\n",
        "dataset = list(gen_record(data_str))\n",
        "print(sorted(list(gen_frequent_2_itemset(dataset, 0.2))))"
      ]
    },
    {
      "cell_type": "markdown",
      "metadata": {
        "id": "8U09s7UwJcc3"
      },
      "source": [
        "**Your output must be:**\n",
        "```\n",
        "[('apple', 'beer'), ('apple', 'rice'), ('beer', 'chicken'), ('beer', 'milk'), ('beer', 'rice'), ('chicken', 'rice'), ('milk', 'rice')]\n",
        "```"
      ]
    },
    {
      "cell_type": "markdown",
      "metadata": {
        "id": "ipSoAEORJcc3"
      },
      "source": [
        "## Ethics:\n",
        "If you cheat, you will get negative of the total points.\n",
        "If the homework total is 22 and you cheat, you get -22."
      ]
    },
    {
      "cell_type": "markdown",
      "metadata": {
        "id": "UbxvzoOmJcc4"
      },
      "source": [
        "## What to submit\n",
        "\n",
        "- Run **all cells** after restarting the kernel\n",
        "- Goto \"File -> Print Preview\"\n",
        "- Print the page as pdf\n",
        "- Pdf file name must be in a form of: homework_1_홍길동_202000001.pdf\n",
        "- Submit the pdf file in google classroom\n",
        "- No late homeworks will be accepted\n",
        "- Your homework will be graded on the basis of correctness and programming skills"
      ]
    }
  ],
  "metadata": {
    "celltoolbar": "Slideshow",
    "hide_input": false,
    "kernelspec": {
      "display_name": "Python 3",
      "language": "python",
      "name": "python3"
    },
    "language_info": {
      "codemirror_mode": {
        "name": "ipython",
        "version": 3
      },
      "file_extension": ".py",
      "mimetype": "text/x-python",
      "name": "python",
      "nbconvert_exporter": "python",
      "pygments_lexer": "ipython3",
      "version": "3.7.3"
    },
    "colab": {
      "name": "‍서다원[재학 / 컴퓨터.전자시스템공학전공] - homework_1_2022.ipynb의 사본",
      "provenance": [],
      "collapsed_sections": []
    }
  },
  "nbformat": 4,
  "nbformat_minor": 0
}