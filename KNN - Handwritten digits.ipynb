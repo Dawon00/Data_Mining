{
  "cells": [
    {
      "cell_type": "markdown",
      "metadata": {
        "id": "jZe39tEgQgl4"
      },
      "source": [
        "# Homework 6. KNN - Handwritten digits"
      ]
    },
    {
      "cell_type": "markdown",
      "metadata": {
        "id": "sASX7KgSQgl8"
      },
      "source": [
        "***Double Click here to edit this cell***\n",
        "\n",
        "- Name: 서다원\n",
        "- Student ID: 202001707\n",
        "- Submission date: 2022.06.10"
      ]
    },
    {
      "cell_type": "markdown",
      "metadata": {
        "id": "2HN7OxX_Qgl9"
      },
      "source": [
        "### We have 1797 handwritten digits of size 8x8 "
      ]
    },
    {
      "cell_type": "code",
      "execution_count": 1,
      "metadata": {
        "colab": {
          "base_uri": "https://localhost:8080/",
          "height": 0
        },
        "id": "CihUXKklQgl9",
        "outputId": "ec539bce-2c9c-49ca-fba9-54a20942850c"
      },
      "outputs": [
        {
          "output_type": "stream",
          "name": "stdout",
          "text": [
            "(1797, 64)\n"
          ]
        }
      ],
      "source": [
        "from sklearn.datasets import load_digits\n",
        "digits = load_digits()\n",
        "print(digits.data.shape)"
      ]
    },
    {
      "cell_type": "code",
      "execution_count": 2,
      "metadata": {
        "colab": {
          "base_uri": "https://localhost:8080/",
          "height": 0
        },
        "id": "9yLbZqIfQgl_",
        "outputId": "9381b72f-00bd-48e6-d701-256f83c9982f"
      },
      "outputs": [
        {
          "output_type": "execute_result",
          "data": {
            "text/plain": [
              "(1797,)"
            ]
          },
          "metadata": {},
          "execution_count": 2
        }
      ],
      "source": [
        "digits.target.shape"
      ]
    },
    {
      "cell_type": "markdown",
      "metadata": {
        "id": "BaANW4H4Qgl_"
      },
      "source": [
        "### Try with some handwritten images"
      ]
    },
    {
      "cell_type": "code",
      "execution_count": 3,
      "metadata": {
        "colab": {
          "base_uri": "https://localhost:8080/",
          "height": 492
        },
        "id": "3CrAkoYkQgl_",
        "outputId": "c5f3e4a8-382a-4256-cdde-e9bbadfacc3d"
      },
      "outputs": [
        {
          "output_type": "stream",
          "name": "stdout",
          "text": [
            "Target is 0\n",
            "Data is :\n",
            "\n",
            "[[ 0.  0.  5. 13.  9.  1.  0.  0.]\n",
            " [ 0.  0. 13. 15. 10. 15.  5.  0.]\n",
            " [ 0.  3. 15.  2.  0. 11.  8.  0.]\n",
            " [ 0.  4. 12.  0.  0.  8.  8.  0.]\n",
            " [ 0.  5.  8.  0.  0.  9.  8.  0.]\n",
            " [ 0.  4. 11.  0.  1. 12.  7.  0.]\n",
            " [ 0.  2. 14.  5. 10. 12.  0.  0.]\n",
            " [ 0.  0.  6. 13. 10.  0.  0.  0.]]\n"
          ]
        },
        {
          "output_type": "display_data",
          "data": {
            "text/plain": [
              "<Figure size 432x288 with 0 Axes>"
            ]
          },
          "metadata": {}
        },
        {
          "output_type": "display_data",
          "data": {
            "text/plain": [
              "<Figure size 288x288 with 1 Axes>"
            ],
            "image/png": "[encoded data removed]"
          },
          "metadata": {
            "needs_background": "light"
          }
        }
      ],
      "source": [
        "%matplotlib inline\n",
        "\n",
        "import matplotlib.pyplot as plt \n",
        "\n",
        "k = 0\n",
        "print('Target is {}'.format(digits.target[k]))\n",
        "print('Data is :\\n')\n",
        "print(digits.data[k].reshape(8,8))\n",
        "plt.gray()\n",
        "plt.matshow(digits.images[k]) \n",
        "plt.show() "
      ]
    },
    {
      "cell_type": "markdown",
      "metadata": {
        "id": "_jvjR_6hQgmA"
      },
      "source": [
        "# Problem 1 (30 pts)\n",
        "\n",
        "- We want to classify handwritten digits using **k nearest neighbor classifier**"
      ]
    },
    {
      "cell_type": "markdown",
      "metadata": {
        "id": "F9ek2PHQQgmA"
      },
      "source": [
        "## STEP 1\n",
        "\n",
        "- import whatever you need\n",
        "- you must set \"random_state=0\"\" in \"train_test_split\"\n",
        "- don't modify the random number seed (random_state)\n",
        "- Split the data into training dataset (0.67 of the total data), test dataset(0.33 of the total data)"
      ]
    },
    {
      "cell_type": "code",
      "execution_count": 121,
      "metadata": {
        "id": "qC9ItcyrQgmB"
      },
      "outputs": [],
      "source": [
        "from sklearn import datasets, metrics\n",
        "from sklearn.metrics import classification_report\n",
        "import sklearn.neighbors as nb\n",
        "import sklearn\n",
        "import numpy as np\n",
        "import matplotlib.pyplot as plt\n",
        "from sklearn.metrics import confusion_matrix\n",
        "from sklearn.model_selection import train_test_split\n",
        "\n",
        "\n",
        "# YOUR CODE HERE\n",
        "\n",
        "digits = datasets.load_digits()\n",
        "X = digits.data\n",
        "y = digits.target\n",
        "\n",
        "#split into training and test sets\n",
        "from sklearn.model_selection import train_test_split\n",
        "X_train, X_test, y_train, y_test = train_test_split(X, y,  test_size=0.33, random_state=0)\n"
      ]
    },
    {
      "cell_type": "markdown",
      "metadata": {
        "id": "7IYL6iqJQgmB"
      },
      "source": [
        "## STEP 2\n",
        "\n",
        "- Use sklearn k nearest neighbor classifier to classify digits\n",
        "- Print confusion matrix, classification report, accuracy\n",
        "- This homework will be graded based on **accuracy**"
      ]
    },
    {
      "cell_type": "code",
      "execution_count": 125,
      "metadata": {
        "colab": {
          "base_uri": "https://localhost:8080/",
          "height": 0
        },
        "id": "qPZykHbOQgmC",
        "outputId": "e250d72d-9d43-4d75-c278-cd57f738ee52"
      },
      "outputs": [
        {
          "output_type": "stream",
          "name": "stdout",
          "text": [
            "Confusion matrix:\n",
            "\n",
            "[[49  0  0  0  0  0  0  0  0  0]\n",
            " [ 0 61  0  0  0  0  0  0  0  0]\n",
            " [ 0  0 61  0  0  0  0  1  0  0]\n",
            " [ 0  0  1 54  0  0  0  0  0  0]\n",
            " [ 0  0  0  0 49  0  0  1  0  0]\n",
            " [ 0  0  0  0  0 63  1  0  0  1]\n",
            " [ 0  0  0  0  0  0 67  0  0  0]\n",
            " [ 0  0  0  0  0  0  0 56  0  0]\n",
            " [ 0  5  0  1  0  0  1  0 60  0]\n",
            " [ 0  0  0  1  0  1  0  0  0 60]]\n",
            "\n",
            "\n",
            "classification_report : \n",
            "\n",
            "              precision    recall  f1-score   support\n",
            "\n",
            "           0       1.00      1.00      1.00        49\n",
            "           1       0.92      1.00      0.96        61\n",
            "           2       0.98      0.98      0.98        62\n",
            "           3       0.96      0.98      0.97        55\n",
            "           4       1.00      0.98      0.99        50\n",
            "           5       0.98      0.97      0.98        65\n",
            "           6       0.97      1.00      0.99        67\n",
            "           7       0.97      1.00      0.98        56\n",
            "           8       1.00      0.90      0.94        67\n",
            "           9       0.98      0.97      0.98        62\n",
            "\n",
            "    accuracy                           0.98       594\n",
            "   macro avg       0.98      0.98      0.98       594\n",
            "weighted avg       0.98      0.98      0.98       594\n",
            "\n",
            "Accuracy = 97.64%\n"
          ]
        }
      ],
      "source": [
        "# YOUR CODE HERE\n",
        "from sklearn.preprocessing import StandardScaler\n",
        "from sklearn.metrics import classification_report,  accuracy_score\n",
        "\n",
        "knc = nb.KNeighborsClassifier()\n",
        "knc.fit(X_train, y_train)\n",
        "predictions =  knc.predict(X_test)\n",
        "print(\"Confusion matrix:\\n\")\n",
        "print(f\"{metrics.confusion_matrix(y_test, predictions)}\")\n",
        "print('\\n\\nclassification_report : \\n')\n",
        "\n",
        "print(classification_report(y_test,predictions))\n",
        "print(\"Accuracy = {:.2f}%\".format(accuracy_score(y_test, predictions)*100))\n",
        "#print(\"Accuracy = {:.2f}%\".format(knc.score(X_test, y_test)*100))"
      ]
    },
    {
      "cell_type": "markdown",
      "metadata": {
        "id": "oeQzwv7iQgmC"
      },
      "source": [
        "My result:\n",
        "```\n",
        "confusion matrix : \n",
        "\n",
        "[[49  0  0  0  0  0  0  0  0  0]\n",
        " [ 0 61  0  0  0  0  0  0  0  0]\n",
        " [ 0  0 62  0  0  0  0  0  0  0]\n",
        " [ 0  0  0 55  0  0  0  0  0  0]\n",
        " [ 0  0  0  0 50  0  0  0  0  0]\n",
        " [ 0  0  0  0  0 63  1  0  0  1]\n",
        " [ 0  0  0  0  0  0 67  0  0  0]\n",
        " [ 0  0  0  0  0  0  0 56  0  0]\n",
        " [ 0  2  0  1  0  0  0  0 64  0]\n",
        " [ 0  0  0  3  0  1  0  0  0 58]]\n",
        "\n",
        "\n",
        "classification_report : \n",
        "\n",
        "              precision    recall  f1-score   support\n",
        "\n",
        "           0       1.00      1.00      1.00        49\n",
        "           1       0.97      1.00      0.98        61\n",
        "           2       1.00      1.00      1.00        62\n",
        "           3       0.93      1.00      0.96        55\n",
        "           4       1.00      1.00      1.00        50\n",
        "           5       0.98      0.97      0.98        65\n",
        "           6       0.99      1.00      0.99        67\n",
        "           7       1.00      1.00      1.00        56\n",
        "           8       1.00      0.96      0.98        67\n",
        "           9       0.98      0.94      0.96        62\n",
        "\n",
        "    accuracy                           0.98       594\n",
        "   macro avg       0.99      0.99      0.99       594\n",
        "weighted avg       0.99      0.98      0.98       594\n",
        "\n",
        "Average accuracy = 98.48%\n",
        "```"
      ]
    },
    {
      "cell_type": "markdown",
      "metadata": {
        "id": "ZMAZEPGaQgmC"
      },
      "source": [
        "## State-of-the-Art of MNIST classification: 99.79%\n",
        "\n",
        "- https://rodrigob.github.io/are_we_there_yet/build/classification_datasets_results.html\n",
        "- MNIST dataset is much bigger dataset: 60,000 training images and 10,000 testing images"
      ]
    },
    {
      "cell_type": "markdown",
      "metadata": {
        "id": "5c-05gSUQgmD"
      },
      "source": [
        "# Problem 2 (30 pts)\n",
        "\n",
        "- If you choose any hyperparameters and you did any transformation in your data, justify your choice and transformation.\n",
        "- The justification must be code, data, or plotted images, **not your guess!!!**\n",
        "- This must be a longer code. \n",
        "- Use plotted image whenever possible.\n",
        "- You may add as many cells as you want.\n",
        "- To add a cell, insert->insert cell or click '+' button above in the notebook.\n",
        "- you must set \"random_state=0\"\" in \"train_test_split\", \"TSNE\" or on any functions based on random numbers"
      ]
    },
    {
      "cell_type": "raw",
      "metadata": {
        "id": "mkqvxRw_QgmD"
      },
      "source": [
        "# random_state must be set to 0\n",
        "\n",
        "TSNE(..., random_state=0)\n",
        "\n",
        "train_test_split(..., random_state=0)"
      ]
    },
    {
      "cell_type": "code",
      "execution_count": 159,
      "metadata": {
        "colab": {
          "base_uri": "https://localhost:8080/",
          "height": 0
        },
        "id": "TCVGzcTNQgmD",
        "outputId": "1463485f-10a2-4fb3-9364-6475fd4bff44"
      },
      "outputs": [
        {
          "output_type": "stream",
          "name": "stdout",
          "text": [
            "x_train shape: (60000, 28, 28, 1)\n",
            "60000 train samples\n",
            "10000 test samples\n",
            "Model: \"sequential_13\"\n",
            "_________________________________________________________________\n",
            " Layer (type)                Output Shape              Param #   \n",
            "=================================================================\n",
            " conv2d_14 (Conv2D)          (None, 28, 28, 32)        832       \n",
            "                                                                 \n",
            " max_pooling2d_14 (MaxPoolin  (None, 14, 14, 32)       0         \n",
            " g2D)                                                            \n",
            "                                                                 \n",
            " conv2d_15 (Conv2D)          (None, 14, 14, 64)        8256      \n",
            "                                                                 \n",
            " max_pooling2d_15 (MaxPoolin  (None, 7, 7, 64)         0         \n",
            " g2D)                                                            \n",
            "                                                                 \n",
            " dropout_14 (Dropout)        (None, 7, 7, 64)          0         \n",
            "                                                                 \n",
            " flatten_13 (Flatten)        (None, 3136)              0         \n",
            "                                                                 \n",
            " dense_25 (Dense)            (None, 1000)              3137000   \n",
            "                                                                 \n",
            " dropout_15 (Dropout)        (None, 1000)              0         \n",
            "                                                                 \n",
            " dense_26 (Dense)            (None, 10)                10010     \n",
            "                                                                 \n",
            "=================================================================\n",
            "Total params: 3,156,098\n",
            "Trainable params: 3,156,098\n",
            "Non-trainable params: 0\n",
            "_________________________________________________________________\n",
            "Epoch 1/6\n",
            "469/469 [==============================] - 103s 217ms/step - loss: 0.1911 - accuracy: 0.9410 - val_loss: 0.0468 - val_accuracy: 0.9861\n",
            "Epoch 2/6\n",
            "469/469 [==============================] - 99s 210ms/step - loss: 0.0603 - accuracy: 0.9807 - val_loss: 0.0336 - val_accuracy: 0.9893\n",
            "Epoch 3/6\n",
            "469/469 [==============================] - 99s 210ms/step - loss: 0.0442 - accuracy: 0.9861 - val_loss: 0.0276 - val_accuracy: 0.9902\n",
            "Epoch 4/6\n",
            "469/469 [==============================] - 100s 213ms/step - loss: 0.0365 - accuracy: 0.9882 - val_loss: 0.0276 - val_accuracy: 0.9905\n",
            "Epoch 5/6\n",
            "469/469 [==============================] - 100s 213ms/step - loss: 0.0312 - accuracy: 0.9901 - val_loss: 0.0231 - val_accuracy: 0.9933\n",
            "Epoch 6/6\n",
            "469/469 [==============================] - 100s 214ms/step - loss: 0.0285 - accuracy: 0.9908 - val_loss: 0.0251 - val_accuracy: 0.9920\n",
            "Test loss: 0.025096410885453224\n",
            "Test accuracy: 0.9919999837875366\n"
          ]
        }
      ],
      "source": [
        "# ADD YOUR CELL\n",
        "import sys\n",
        "import tensorflow as tf\n",
        "import keras\n",
        "from keras.models import Sequential\n",
        "from keras.layers import Dense, Dropout, Flatten\n",
        "from keras.layers.convolutional import Conv2D, MaxPooling2D\n",
        "import numpy as np\n",
        "\n",
        "from IPython.display import SVG\n",
        "from keras.utils.vis_utils import model_to_dot\n",
        "%matplotlib inline\n",
        "\n",
        "np.random.seed(3)\n",
        "\n",
        "\n",
        "img_rows = 28\n",
        "img_cols = 28\n",
        "\n",
        "\n",
        "(x_train, y_train), (x_test, y_test) = keras.datasets.mnist.load_data()\n",
        "\n",
        "input_shape = (img_rows, img_cols, 1)\n",
        "x_train = x_train.reshape(x_train.shape[0], img_rows, img_cols, 1)\n",
        "x_test = x_test.reshape(x_test.shape[0], img_rows, img_cols, 1)\n",
        "\n",
        "x_train = x_train.astype('float32') / 255.\n",
        "x_test = x_test.astype('float32') / 255.\n",
        "\n",
        "print('x_train shape:', x_train.shape)\n",
        "print(x_train.shape[0], 'train samples')\n",
        "print(x_test.shape[0], 'test samples')\n",
        "\n",
        "batch_size = 128\n",
        "num_classes = 10\n",
        "epochs = 6\n",
        "\n",
        "y_train = tf.keras.utils.to_categorical(y_train, num_classes)\n",
        "y_test = tf.keras.utils.to_categorical(y_test, num_classes)\n",
        "\n",
        "model = Sequential()\n",
        "model.add(Conv2D(32, kernel_size=(5, 5), strides=(1, 1), padding='same',\n",
        "                 activation='relu',\n",
        "                 input_shape=input_shape))\n",
        "model.add(MaxPooling2D(pool_size=(2, 2), strides=(2, 2)))\n",
        "model.add(Conv2D(64, (2, 2), activation='relu', padding='same'))\n",
        "model.add(MaxPooling2D(pool_size=(2, 2)))\n",
        "model.add(Dropout(0.25))\n",
        "model.add(Flatten())\n",
        "model.add(Dense(1000, activation='relu'))\n",
        "model.add(Dropout(0.5))\n",
        "model.add(Dense(num_classes, activation='softmax'))\n",
        "model.summary()\n",
        "\n",
        "\n",
        "SVG(model_to_dot(model, show_shapes=True).create(prog='dot', format='svg'))\n",
        "\n",
        "model.compile(loss='categorical_crossentropy', optimizer='adam', metrics=['accuracy'])\n",
        "hist = model.fit(x_train, y_train,\n",
        "                 batch_size=batch_size,\n",
        "                 epochs=epochs,\n",
        "                 verbose=1, \n",
        "                 validation_data=(x_test, y_test))\n",
        "\n",
        "score = model.evaluate(x_test, y_test, verbose=0)\n",
        "print('Test loss:', score[0])\n",
        "print('Test accuracy:', score[1])"
      ]
    },
    {
      "cell_type": "code",
      "source": [
        "from sklearn.metrics import classification_report\n",
        "from sklearn.metrics import confusion_matrix\n",
        "\n",
        "yTest_original=np.argmax(y_test,axis=1)\n",
        "yPred = np.argmax(model.predict(x_test), axis=-1)\n",
        "#yPred_probabilities = model.predict(X_test)\n",
        "\n",
        "print(\"Classification report \\n=======================\")\n",
        "print(classification_report(y_true=yTest_original, y_pred=yPred))\n",
        "print(\"Confusion matrix \\n=======================\")\n",
        "print(confusion_matrix(y_true=yTest_original, y_pred=yPred))\n",
        "\n",
        "print(\"Accuracy = {:.2f}%\".format(score[1] *100))"
      ],
      "metadata": {
        "colab": {
          "base_uri": "https://localhost:8080/",
          "height": 0
        },
        "id": "7x599FMb5rcm",
        "outputId": "d589717a-c4fd-4d34-dcb4-4d952ef7c3f5"
      },
      "execution_count": 160,
      "outputs": [
        {
          "output_type": "stream",
          "name": "stdout",
          "text": [
            "Classification report \n",
            "=======================\n",
            "              precision    recall  f1-score   support\n",
            "\n",
            "           0       0.98      1.00      0.99       980\n",
            "           1       1.00      1.00      1.00      1135\n",
            "           2       0.99      0.99      0.99      1032\n",
            "           3       1.00      0.99      0.99      1010\n",
            "           4       1.00      1.00      1.00       982\n",
            "           5       0.98      0.99      0.99       892\n",
            "           6       1.00      0.99      0.99       958\n",
            "           7       0.99      0.99      0.99      1028\n",
            "           8       1.00      0.98      0.99       974\n",
            "           9       0.99      0.99      0.99      1009\n",
            "\n",
            "    accuracy                           0.99     10000\n",
            "   macro avg       0.99      0.99      0.99     10000\n",
            "weighted avg       0.99      0.99      0.99     10000\n",
            "\n",
            "Confusion matrix \n",
            "=======================\n",
            "[[ 978    0    0    0    0    0    1    0    0    1]\n",
            " [   0 1134    0    0    0    0    0    1    0    0]\n",
            " [   3    0 1023    0    0    0    0    6    0    0]\n",
            " [   0    0    1 1001    0    7    0    0    1    0]\n",
            " [   0    0    0    0  979    0    1    1    0    1]\n",
            " [   2    0    0    4    0  885    1    0    0    0]\n",
            " [   5    2    0    0    1    2  947    0    1    0]\n",
            " [   0    1    4    0    0    0    0 1022    1    0]\n",
            " [   6    0    1    1    0    2    1    3  957    3]\n",
            " [   2    2    0    0    3    3    0    4    1  994]]\n",
            "Accuracy = 99.20%\n"
          ]
        }
      ]
    },
    {
      "cell_type": "markdown",
      "metadata": {
        "id": "U38wZB8zQgmE"
      },
      "source": [
        "- This is my result. \n",
        "\n",
        "```\n",
        "confusion matrix : \n",
        "\n",
        "[[49  0  0  0  0  0  0  0  0  0]\n",
        " [ 0 61  0  0  0  0  0  0  0  0]\n",
        " [ 0  0 61  1  0  0  0  0  0  0]\n",
        " [ 0  0  0 55  0  0  0  0  0  0]\n",
        " [ 0  0  0  0 50  0  0  0  0  0]\n",
        " [ 0  0  0  0  0 63  1  0  0  1]\n",
        " [ 0  0  0  0  0  0 67  0  0  0]\n",
        " [ 0  0  0  0  0  0  0 56  0  0]\n",
        " [ 0  2  0  0  0  0  0  0 65  0]\n",
        " [ 0  0  0  1  0  0  0  0  0 61]]\n",
        "\n",
        "\n",
        "classification_report : \n",
        "\n",
        "              precision    recall  f1-score   support\n",
        "\n",
        "           0       1.00      1.00      1.00        49\n",
        "           1       0.97      1.00      0.98        61\n",
        "           2       1.00      0.98      0.99        62\n",
        "           3       0.96      1.00      0.98        55\n",
        "           4       1.00      1.00      1.00        50\n",
        "           5       1.00      0.97      0.98        65\n",
        "           6       0.99      1.00      0.99        67\n",
        "           7       1.00      1.00      1.00        56\n",
        "           8       1.00      0.97      0.98        67\n",
        "           9       0.98      0.98      0.98        62\n",
        "\n",
        "    accuracy                           0.99       594\n",
        "   macro avg       0.99      0.99      0.99       594\n",
        "weighted avg       0.99      0.99      0.99       594\n",
        "\n",
        "Average accuracy = 98.99%\n",
        "```"
      ]
    },
    {
      "cell_type": "markdown",
      "metadata": {
        "id": "LoTykFPlQgmE"
      },
      "source": [
        "### Written justification for your hyperparameter choice and data transformation\n",
        "\n",
        "keras로 CNN의 개념을 이용. \n",
        "hyperparameter 로는 pooling-layer parameter를 들 수 있다. \n"
      ]
    },
    {
      "cell_type": "markdown",
      "metadata": {
        "id": "HAtzCPC2QgmF"
      },
      "source": [
        "## Ethics:\n",
        "If you cheat, you will get negatgive of the total points.\n",
        "If the homework total is 22 and you cheat, you get -22."
      ]
    },
    {
      "cell_type": "markdown",
      "metadata": {
        "id": "FAT3rwenQgmF"
      },
      "source": [
        "## What to submit\n",
        "\n",
        "- Run **all cells** after restarting the kernel\n",
        "- Goto \"File -> Print Preview\"\n",
        "- Print the page as pdf\n",
        "- Pdf file name must be in a form of: homework_6_홍길동_202200001.pdf\n",
        "- Submit the pdf file in google classroom\n",
        "- No late homeworks will be accepted\n",
        "- Your homework will be graded on the basis of correctness and programming skills"
      ]
    }
  ],
  "metadata": {
    "celltoolbar": "Slideshow",
    "hide_input": false,
    "kernelspec": {
      "display_name": "Python 3",
      "language": "python",
      "name": "python3"
    },
    "language_info": {
      "codemirror_mode": {
        "name": "ipython",
        "version": 3
      },
      "file_extension": ".py",
      "mimetype": "text/x-python",
      "name": "python",
      "nbconvert_exporter": "python",
      "pygments_lexer": "ipython3",
      "version": "3.7.3"
    },
    "colab": {
      "name": "‍서다원[재학 / 컴퓨터.전자시스템공학전공] - homework_6_knn_2022.ipynb",
      "provenance": [],
      "collapsed_sections": []
    }
  },
  "nbformat": 4,
  "nbformat_minor": 0
}