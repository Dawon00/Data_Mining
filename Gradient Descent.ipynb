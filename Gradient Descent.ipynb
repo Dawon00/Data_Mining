{
  "cells": [
    {
      "cell_type": "markdown",
      "metadata": {
        "id": "1BIz-o11y7zZ"
      },
      "source": [
        "# Homework 3. Gradient Descent"
      ]
    },
    {
      "cell_type": "markdown",
      "metadata": {
        "id": "wnozV41Qy7zg"
      },
      "source": [
        "***Double Click here to edit this cell***\n",
        "\n",
        "- Name: 서다원\n",
        "- Student ID: 202001707\n",
        "- Submission date: "
      ]
    },
    {
      "cell_type": "markdown",
      "metadata": {
        "id": "aolJzr6oy7zh"
      },
      "source": [
        "## Remark: gradient_descent.py, linear_algebra.py must be in the folder having this notebook file"
      ]
    },
    {
      "cell_type": "code",
      "execution_count": 1,
      "metadata": {
        "id": "ticiTY3Sy7zi"
      },
      "outputs": [],
      "source": [
        "# run this cell\n",
        "from gradient_descent import *\n",
        "from linear_algebra import *"
      ]
    },
    {
      "cell_type": "code",
      "execution_count": null,
      "metadata": {
        "scrolled": true,
        "id": "4-phTSuEy7zj"
      },
      "outputs": [],
      "source": [
        "# for Linux, mac users\n",
        "# !cat linear_algebra.py\n",
        "!type linear_algebra.py"
      ]
    },
    {
      "cell_type": "code",
      "execution_count": null,
      "metadata": {
        "id": "BAEssDxAy7zk"
      },
      "outputs": [],
      "source": [
        "# for Linux, mac users\n",
        "# !cat gradient_descent.py\n",
        "!type gradient_descent.py"
      ]
    },
    {
      "cell_type": "markdown",
      "metadata": {
        "id": "AyMcZ8cPy7zl"
      },
      "source": [
        "## Problem 1 (5 pts)\n",
        "\n",
        "- The following function has a minimum at $(2, 3)$\n",
        "$$\n",
        "f(x_1, x_2) = (x_1 - 2)^2 + (x_2 - 3)^2\n",
        "$$\n",
        "\n",
        "- We want to compute the minimum of $f$ using the gradient descent algorithm\n",
        "- Define a function (```f```) and gradient of function (```f_gradient```)\n",
        "- **Do NOT use numpy functions to define f and f_gradient**\n",
        "- **USE functions in linear_algebra.py**\n",
        "### <span style=\"color:red\">**You write two functions. Each function must have ONE line of code in function body; Otherwise, you get zero point (0점)**</span>"
      ]
    },
    {
      "cell_type": "code",
      "execution_count": 2,
      "metadata": {
        "id": "6bpjgWQ1y7zm"
      },
      "outputs": [],
      "source": [
        "# YOUR CODE MUST BE HERE\n",
        "\n",
        "def f(x):  #f(x) = ||x-c||^2\n",
        "  return sum_of_squares(vector_subtract(x, [2., 3.]))\n",
        "\n",
        "def f_gradient(x): #f = 2(x-c)\n",
        "  return scalar_multiply(2, vector_subtract(x, [2.,3.]))"
      ]
    },
    {
      "cell_type": "code",
      "execution_count": 3,
      "metadata": {
        "id": "jZHkeL1_y7zn",
        "outputId": "4a686a8e-a822-4ca1-9e8e-c4178511d2ea",
        "colab": {
          "base_uri": "https://localhost:8080/"
        }
      },
      "outputs": [
        {
          "output_type": "stream",
          "name": "stdout",
          "text": [
            "CPU times: user 838 µs, sys: 0 ns, total: 838 µs\n",
            "Wall time: 843 µs\n",
            "solution is [1.997524119921429, 2.996286179882144]\n",
            "++++++++++ Problem 1 check passed ++++++++++\n"
          ]
        }
      ],
      "source": [
        "# DO NOT EDIT THIS CELL\n",
        "# RUN THIS CELL\n",
        "\n",
        "init_x = [0.,0.]\n",
        "%time solution = minimize_batch(f, f_gradient, init_x, tolerance=0.00001)\n",
        "\n",
        "### correctness check\n",
        "print('solution is {}'.format(solution))\n",
        "EPSILON = 0.01\n",
        "cond1 = math.fabs(solution[0] - 2.0) <= EPSILON\n",
        "cond2 = math.fabs(solution[1] - 3.0) <= EPSILON\n",
        "assert  all([cond1, cond2]), '-'*10 + ' Problem 1 check failed ' + '-'*10\n",
        "print('+'*10 + ' Problem 1 check passed ' + '+'*10)"
      ]
    },
    {
      "cell_type": "markdown",
      "metadata": {
        "id": "sf_wMT9Qy7zo"
      },
      "source": [
        "## Problem 2 (10 pts)\n",
        "\n",
        "- The centroid of a finite set of $\\displaystyle {k}$ points $\\displaystyle \\mathbf {x} _{1},\\mathbf {x} _{2},\\ldots ,\\mathbf {x} _{k}$ in $\\displaystyle \\mathbb {R} ^{n}$ is\n",
        "$$\n",
        "\\mathbf {C} ={\\frac {\\mathbf {x} _{1}+\\mathbf {x} _{2}+\\cdots +\\mathbf {x} _{k}}{k}}\n",
        "$$\n",
        "\n",
        "- We want to compute a centroid by **minimizing the mean of squared Euclidean distances between itself and each point in the set**\n",
        "$$\n",
        "x_{\\text{centroid}} = \\text{argmin}_{\\text{c}} {\\frac{\\sum_{i=1}^{n}d({\\text{c}}, x_i)^2}{n}}\n",
        "$$\n",
        "- Define a function (```sq_dist```) and gradient of function (```sq_dist_gradient```)\n",
        "- **Do NOT use numpy functions to define sq_dist and sq_dist_gradient**\n",
        "- **USE functions in linear_algebra.py**\n",
        "### <span style=\"color:red\">**You write two functions. Each function must have ONE line of code in function body; Otherwise, you get zero point (0점)**</span>"
      ]
    },
    {
      "cell_type": "code",
      "execution_count": 6,
      "metadata": {
        "id": "AOoltKYwy7zp"
      },
      "outputs": [],
      "source": [
        "# YOUR CODE MUST BE HERE\n",
        "def sq_dist(c, X): #d(c, xi)^2 = ||c - xi||^2\n",
        "  transf = lambda x: sum_of_squares(vector_subtract(c, x))\n",
        "  mean_sq_dist = sum(list(map(transf, X))) / len(X)\n",
        "  return mean_sq_dist\n",
        "\n",
        "def sq_dist_gradient(c, X):\n",
        "  transf = lambda x : scalar_multiply(2, (vector_subtract(c, x)))\n",
        "  mean_sq_dist_gradient = scalar_multiply(1./len(X), vector_sum(list(map(transf, X))))\n",
        "  return mean_sq_dist_gradient"
      ]
    },
    {
      "cell_type": "code",
      "execution_count": 7,
      "metadata": {
        "id": "8sJFunWby7zq",
        "outputId": "8e806443-db2f-4491-973b-47dec998a4f8",
        "colab": {
          "base_uri": "https://localhost:8080/"
        }
      },
      "outputs": [
        {
          "output_type": "stream",
          "name": "stdout",
          "text": [
            "CPU times: user 144 ms, sys: 0 ns, total: 144 ms\n",
            "Wall time: 144 ms\n",
            "solution is [99.99885075808739, 700.1414374609791]\n",
            "++++++++++ Problem 2 check passed ++++++++++\n"
          ]
        }
      ],
      "source": [
        "# DO NOT EDIT THIS CELL\n",
        "# RUN THIS CELL\n",
        "\n",
        "from functools import partial\n",
        "import numpy as np\n",
        "\n",
        "np.random.seed(0)\n",
        "c = np.array([100,700])\n",
        "X = c + np.random.randn(100,2)\n",
        "\n",
        "f = partial(sq_dist, X=X)\n",
        "gradient_f = partial(sq_dist_gradient, X=X)\n",
        "init_x = np.array([0.,0.])\n",
        "%time solution = minimize_batch(f, gradient_f, init_x)\n",
        "\n",
        "### correctness check\n",
        "print('solution is {}'.format(solution))\n",
        "EPSILON = 1\n",
        "cond1 = math.fabs(solution[0] - 100.0) <= EPSILON\n",
        "cond2 = math.fabs(solution[1] - 700.0) <= EPSILON\n",
        "assert  all([cond1, cond2]), '-'*10 + ' Problem 2 check failed ' + '-'*10\n",
        "print('+'*10 + ' Problem 2 check passed ' + '+'*10)"
      ]
    },
    {
      "cell_type": "code",
      "execution_count": 8,
      "metadata": {
        "id": "uzfiKUsey7zr",
        "outputId": "6b598f58-e76e-4e3f-ad9e-29238e510768",
        "colab": {
          "base_uri": "https://localhost:8080/"
        }
      },
      "outputs": [
        {
          "output_type": "stream",
          "name": "stdout",
          "text": [
            "CPU times: user 2min 30s, sys: 767 ms, total: 2min 31s\n",
            "Wall time: 2min 31s\n",
            "solution is [99.99988468682913, 700.0052527466843]\n",
            "++++++++++ Problem 2 check passed ++++++++++\n"
          ]
        }
      ],
      "source": [
        "# DO NOT EDIT THIS CELL\n",
        "# RUN THIS CELL\n",
        "\n",
        "from functools import partial\n",
        "import numpy as np\n",
        "\n",
        "np.random.seed(0)\n",
        "c = np.array([100,700])\n",
        "X = c + np.random.randn(100000,2)     # 100 thousands\n",
        "\n",
        "f = partial(sq_dist, X=X)\n",
        "gradient_f = partial(sq_dist_gradient, X=X)\n",
        "init_x = np.array([0.,0.])\n",
        "%time solution = minimize_batch(f, gradient_f, init_x)\n",
        "\n",
        "### correctness check\n",
        "print('solution is {}'.format(solution))\n",
        "EPSILON = 1\n",
        "cond1 = math.fabs(solution[0] - 100.0) <= EPSILON\n",
        "cond2 = math.fabs(solution[1] - 700.0) <= EPSILON\n",
        "assert  all([cond1, cond2]), '+'*10 + ' Problem 2 check failed ' + '-'*10\n",
        "print('+'*10 + ' Problem 2 check passed ' + '+'*10)"
      ]
    },
    {
      "cell_type": "markdown",
      "metadata": {
        "id": "ENAaALXEy7zr"
      },
      "source": [
        "**Time taken in my computer**:\n",
        "```\n",
        "Wall time: 2min 22s\n",
        "solution is [99.99988468682913, 700.0052527466843]\n",
        "++++++++++ Problem 2 check passed ++++++++++\n",
        "```"
      ]
    },
    {
      "cell_type": "markdown",
      "metadata": {
        "id": "eT3vRmH4y7zs"
      },
      "source": [
        "## Problem 3 (10 pts)\n",
        "\n",
        "- Continued from Problem 2\n",
        "- We want to compute a centroid\n",
        "- Define a function (```sq_dist_numpy```) and gradient of function (```sq_dist_gradient_numpy```)\n",
        "- **Use numpy functions to define sq_dist and sq_dist_gradient**\n",
        "- **Do NOT use functions in linear_algebra.py**\n",
        "### <span style=\"color:red\">**You write two functions. Each function must have ONE line of code in function body; Otherwise, you get zero point (0점)**</span>"
      ]
    },
    {
      "cell_type": "code",
      "execution_count": 9,
      "metadata": {
        "id": "ZdHCxCZIy7zs"
      },
      "outputs": [],
      "source": [
        "# YOUR CODE MUST BE HERE\n",
        "import numpy as np\n",
        "\n",
        "def sq_dist_numpy(c, X):\n",
        "  return np.mean(np.sum((np.array(X) - np.array(c))**2, axis=1))\n",
        "\n",
        "def sq_dist_gradient_numpy(c, X):\n",
        "  return np.mean(-2*np.array(X) + 2*np.array(c), axis=0)"
      ]
    },
    {
      "cell_type": "code",
      "execution_count": 10,
      "metadata": {
        "id": "O0g7MycTy7zt",
        "outputId": "e416f5b5-0af6-4602-b9e9-f6899c55bbf4",
        "colab": {
          "base_uri": "https://localhost:8080/"
        }
      },
      "outputs": [
        {
          "output_type": "stream",
          "name": "stdout",
          "text": [
            "CPU times: user 2.26 s, sys: 50 ms, total: 2.31 s\n",
            "Wall time: 2.31 s\n",
            "[99.99988468682913, 700.0052527466843]\n",
            "++++++++++ Problem 3 check passed ++++++++++\n"
          ]
        }
      ],
      "source": [
        "# DO NOT EDIT THIS CELL\n",
        "# RUN THIS CELL\n",
        "\n",
        "from functools import partial\n",
        "\n",
        "np.random.seed(0)\n",
        "c = np.array([100,700])\n",
        "X = c + np.random.randn(100000,2)\n",
        "\n",
        "f = partial(sq_dist_numpy, X=X)\n",
        "gradient_f = partial(sq_dist_gradient_numpy, X=X)\n",
        "init_x = np.array([0.,0.])\n",
        "%time solution = minimize_batch(f, gradient_f, init_x)\n",
        "\n",
        "### correctness check\n",
        "print(solution)\n",
        "EPSILON = 1\n",
        "cond1 = math.fabs(solution[0] - 100.0) <= EPSILON\n",
        "cond2 = math.fabs(solution[1] - 700.0) <= EPSILON\n",
        "assert  all([cond1, cond2]), '-'*10 + ' Problem 3 check failed ' + '-'*10\n",
        "print('+'*10 + ' Problem 3 check passed ' + '+'*10)"
      ]
    },
    {
      "cell_type": "markdown",
      "metadata": {
        "id": "mhPGQ4Cdy7zt"
      },
      "source": [
        "**Time taken in my computer**:\n",
        "```\n",
        "Wall time: 1.49 s\n",
        "[99.99988468682913, 700.0052527466843]\n",
        "++++++++++ Problem 3 check passed ++++++++++\n",
        "```"
      ]
    },
    {
      "cell_type": "markdown",
      "metadata": {
        "id": "pzG0HSL8y7zt"
      },
      "source": [
        "## Problem 4 (10 pts)\n",
        "\n",
        "- We want to compute a centroid using Manhattan distance\n",
        "- Define a function (```abs_diff_numpy```) and gradient of function (```abs_diff_gradient_numpy```)\n",
        "- Use numpy functions to define abs_diff_numpy and abs_diff_gradient_numpy\n",
        "- Do NOT use functions in linear_algebra.py\n",
        "### <span style=\"color:red\">**Each function must have ONE line of code; Otherwise, you get zero point (0점)**</span>"
      ]
    },
    {
      "cell_type": "code",
      "execution_count": 11,
      "metadata": {
        "id": "GSEd7Q2vy7zu"
      },
      "outputs": [],
      "source": [
        "# YOUR CODE MUST BE HERE\n",
        "#Manhattan distance\n",
        "import numpy as np\n",
        "\n",
        "def abs_diff_numpy(c, X):\n",
        "  c = np.array(c)\n",
        "  X = np.array(X)\n",
        "  return np.mean(np.sum(np.fabs(X - c), axis=1))\n",
        "\n",
        "def abs_diff_gradient_numpy(c, X):\n",
        "  c = np.array(c)\n",
        "  X = np.array(X)\n",
        "  return np.mean(np.sign(c - X), axis=0)"
      ]
    },
    {
      "cell_type": "code",
      "execution_count": 12,
      "metadata": {
        "id": "oqzhoZtcy7zu",
        "outputId": "4cf0a5ae-dcfa-4efa-dacd-bd70ee5f6106",
        "colab": {
          "base_uri": "https://localhost:8080/"
        }
      },
      "outputs": [
        {
          "output_type": "stream",
          "name": "stdout",
          "text": [
            "CPU times: user 5.1 ms, sys: 1e+03 ns, total: 5.1 ms\n",
            "Wall time: 5.11 ms\n",
            "[99.26, 99.34666666666666]\n",
            "++++++++++ Problem 4 check passed ++++++++++\n"
          ]
        }
      ],
      "source": [
        "# DO NOT EDIT THIS CELL\n",
        "# RUN THIS CELL\n",
        "\n",
        "np.random.seed(0)\n",
        "# c = np.array([100,700])\n",
        "# X = c + np.random.randn(100,2)\n",
        "c1 = np.array([100,100])\n",
        "X1 = c1 + np.random.randn(100,2)\n",
        "c2 = np.array([100,0])\n",
        "X2 = c2 + np.random.randn(100,2)\n",
        "c3 = np.array([0,100])\n",
        "X3 = c3 + np.random.randn(100,2)\n",
        "X  = np.vstack((X1, X2, X3)) \n",
        "\n",
        "f = partial(abs_diff_numpy, X=X)\n",
        "gradient_f = partial(abs_diff_gradient_numpy, X=X)\n",
        "init_x = np.array([0.,0.])\n",
        "%time solution = minimize_batch(f, gradient_f, init_x)\n",
        "\n",
        "### correctness check\n",
        "print(solution)\n",
        "EPSILON = 1\n",
        "cond1 = math.fabs(solution[0] - 100.0) <= EPSILON\n",
        "cond2 = math.fabs(solution[1] - 100.0) <= EPSILON\n",
        "assert  all([cond1, cond2]), '-'*10 + ' Problem 4 check failed ' + '-'*10\n",
        "print('+'*10 + ' Problem 4 check passed ' + '+'*10)"
      ]
    },
    {
      "cell_type": "markdown",
      "metadata": {
        "id": "EFI22XMRy7zu"
      },
      "source": [
        "## Problem 5 (15 pts)\n",
        "\n",
        "- We want to rewrite ```minimize_batch```.\n",
        "- Do NOT use ```step``` function; provide numpy style code using broadcasting\n",
        "    - Do NOT use ```[step(theta, gradient, -step_size) for step_size in step_sizes]```\n",
        "- Modify ```minimize_batch``` to take ```step_sizes``` as an argument\n",
        "- Modify ```minimize_batch``` to take maximum number of epochs as an argument\n",
        "    - epoch is the number of ```while``` loop iterations in the following code.\n",
        "- Modify ```minimize_batch``` to return ```epoch``` together with ```theta```\n",
        "- Modify ```minimize_batch``` to return ```None``` as solution if it does not converge within max_steps\n",
        "- **Use numpy functions to define sq_dist_numpy_1 and sq_dist_gradient_numpy_1**\n",
        "- **Do NOT use functions in linear_algebra.py**\n",
        "- If all done, now you have an enhanced numpy version of minimize_batch"
      ]
    },
    {
      "cell_type": "markdown",
      "metadata": {
        "id": "7Qf-e2m_y7zv"
      },
      "source": [
        "The following is ```minimize_batch``` in our textbook\n",
        "```python\n",
        "def minimize_batch(target_fn, gradient_fn, theta_0, tolerance=0.000001):\n",
        "    \"\"\"use gradient descent to find theta that minimizes target function\"\"\"\n",
        "\n",
        "    step_sizes = [100, 10, 1, 0.1, 0.01, 0.001, 0.0001, 0.00001]\n",
        "\n",
        "    theta = theta_0                           # set theta to initial value\n",
        "    target_fn = safe(target_fn)               # safe version of target_fn\n",
        "    value = target_fn(theta)                  # value we're minimizing\n",
        "\n",
        "    while True:\n",
        "        gradient = gradient_fn(theta)\n",
        "        next_thetas = [step(theta, gradient, -step_size)\n",
        "                       for step_size in step_sizes]\n",
        "\n",
        "        # choose the one that minimizes the error function\n",
        "        next_theta = min(next_thetas, key=target_fn)\n",
        "        next_value = target_fn(next_theta)\n",
        "\n",
        "        # stop if we're \"converging\"\n",
        "        if abs(value - next_value) < tolerance:\n",
        "            return theta\n",
        "        else:\n",
        "            theta, value = next_theta, next_value\n",
        "```"
      ]
    },
    {
      "cell_type": "code",
      "execution_count": 17,
      "metadata": {
        "id": "JfgAIttBy7zv"
      },
      "outputs": [],
      "source": [
        "# YOUR CODE MUST BE HERE\n",
        "\n",
        "def minimize_batch_enhanced(target_fn, gradient_fn, theta_0, step_sizes, max_steps=10000, tolerance=0.000001):\n",
        "  theta = theta_0 #set theta to initial value\n",
        "  target_fn = safe(target_fn)\n",
        "  value = target_fn(theta)\n",
        "  epoch = 0\n",
        "  for _ in range(max_steps):\n",
        "    gradient = gradient_fn(theta)\n",
        "    next_thetas = theta - step_sizes[:, np.newaxis] * gradient[np.newaxis, :]\n",
        "\n",
        "    next_theta = min(next_thetas, key=target_fn)\n",
        "    next_value = target_fn(next_theta)\n",
        "\n",
        "    #stop if we're \"converging\"\n",
        "    if abs(value - next_value) < tolerance:\n",
        "      return theta, epoch\n",
        "    else:\n",
        "      epoch += 1\n",
        "      theta, value = next_theta.copy(), next_value\n",
        "\n",
        "  return None, epoch"
      ]
    },
    {
      "cell_type": "markdown",
      "metadata": {
        "id": "sSilSzFvy7zv"
      },
      "source": [
        "### <span style=\"color:red\">**Each function must have ONE line of code; Otherwise, you get zero point (0점)**</span>"
      ]
    },
    {
      "cell_type": "code",
      "execution_count": 18,
      "metadata": {
        "id": "ijpBQcOiy7zw"
      },
      "outputs": [],
      "source": [
        "# YOUR CODE MUST BE HERE\n",
        "def sq_dist_numpy_1(c,X):\n",
        "  return np.mean(np.sum((X-c)**2, axis=1))\n",
        "\n",
        "def sq_dist_gradient_numpy_1(c, X):\n",
        "  return np.mean(-2*X + 2*c, axis=0)"
      ]
    },
    {
      "cell_type": "code",
      "execution_count": 19,
      "metadata": {
        "id": "M-iUAYjSy7zw",
        "outputId": "3719a18b-8c5c-4ef4-d0c0-119bdb575e95",
        "colab": {
          "base_uri": "https://localhost:8080/"
        }
      },
      "outputs": [
        {
          "output_type": "stream",
          "name": "stdout",
          "text": [
            "Solution [ 99.78192923 699.8960156 ] found at epoch 587\n",
            "Problem 5 check passed\n"
          ]
        }
      ],
      "source": [
        "# DO NOT EDIT THIS CELL\n",
        "# RUN THIS CELL\n",
        "\n",
        "from functools import partial\n",
        "import numpy as np\n",
        "\n",
        "np.random.seed(0)\n",
        "c = np.array([100,700])\n",
        "X = c + 10*np.random.randn(1000,2)\n",
        "\n",
        "f = partial(sq_dist_numpy_1, X=X)\n",
        "gradient_f = partial(sq_dist_gradient_numpy_1, X=X)\n",
        "init_x = np.array([0.,0.])\n",
        "step_sizes = np.array([0.01])\n",
        "\n",
        "solution, epoch = minimize_batch_enhanced(f, gradient_f, init_x, step_sizes)\n",
        "### correctness check\n",
        "if solution is None:\n",
        "    print('Does not converge within epoch {}'.format(epoch))\n",
        "else:\n",
        "    print('Solution {} found at epoch {}'.format(solution, epoch))\n",
        "    EPSILON = 1\n",
        "    cond1 = math.fabs(solution[0] - 100.0) <= EPSILON\n",
        "    cond2 = math.fabs(solution[1] - 700.0) <= EPSILON\n",
        "    assert  all([cond1, cond2]), 'Problem 5 check failed'\n",
        "    print('Problem 5 check passed')"
      ]
    },
    {
      "cell_type": "markdown",
      "metadata": {
        "id": "e_SUrNzuy7zw"
      },
      "source": [
        "Your solution should be like:\n",
        "```\n",
        "Solution [ 99.78192923 699.8960156 ] found at epoch 587\n",
        "Problem 5 check passed\n",
        "```"
      ]
    },
    {
      "cell_type": "code",
      "execution_count": 20,
      "metadata": {
        "id": "ddw_JtNRy7zw",
        "outputId": "f4812a58-7dfe-4e72-c2be-030cb9d175df",
        "colab": {
          "base_uri": "https://localhost:8080/"
        }
      },
      "outputs": [
        {
          "output_type": "stream",
          "name": "stdout",
          "text": [
            "\n",
            "++++++++++ Test case [10] ++++++++++\n"
          ]
        },
        {
          "output_type": "stream",
          "name": "stderr",
          "text": [
            "/usr/local/lib/python3.7/dist-packages/numpy/core/_methods.py:179: RuntimeWarning: overflow encountered in reduce\n",
            "  ret = umr_sum(arr, axis, dtype, out, keepdims, where=where)\n",
            "/usr/local/lib/python3.7/dist-packages/ipykernel_launcher.py:3: RuntimeWarning: overflow encountered in square\n",
            "  This is separate from the ipykernel package so we can avoid doing imports until\n",
            "/usr/local/lib/python3.7/dist-packages/ipykernel_launcher.py:16: RuntimeWarning: invalid value encountered in double_scalars\n",
            "  app.launch_new_instance()\n",
            "/usr/local/lib/python3.7/dist-packages/ipykernel_launcher.py:10: RuntimeWarning: invalid value encountered in subtract\n",
            "  # Remove the CWD from sys.path while we load stuff.\n"
          ]
        },
        {
          "output_type": "stream",
          "name": "stdout",
          "text": [
            "Does not converge within epoch 10000\n",
            "\n",
            "++++++++++ Test case [0.1] ++++++++++\n",
            "Solution [ 99.78244401 699.89962643] found at epoch 59\n",
            "Problem 5 check passed\n",
            "\n",
            "++++++++++ Test case [0.01] ++++++++++\n",
            "Solution [ 99.78192923 699.8960156 ] found at epoch 587\n",
            "Problem 5 check passed\n",
            "\n",
            "++++++++++ Test case [0.001] ++++++++++\n",
            "Solution [ 99.78040508 699.88532482] found at epoch 5349\n",
            "Problem 5 check passed\n",
            "\n",
            "++++++++++ Test case [0.0001] ++++++++++\n",
            "Does not converge within epoch 10000\n",
            "\n",
            "++++++++++ Test case [1.e-05] ++++++++++\n",
            "Does not converge within epoch 10000\n",
            "\n",
            "++++++++++ Test case [1.e-03 1.e-02 1.e-01 1.e+00 1.e+01 1.e+02 1.e+03] ++++++++++\n",
            "Solution [ 99.78244401 699.89962643] found at epoch 59\n",
            "Problem 5 check passed\n"
          ]
        }
      ],
      "source": [
        "# DO NOT EDIT THIS CELL\n",
        "# RUN THIS CELL\n",
        "\n",
        "from functools import partial\n",
        "import numpy as np\n",
        "\n",
        "np.random.seed(0)\n",
        "c = np.array([100,700])\n",
        "X = c + 10*np.random.randn(1000,2)\n",
        "\n",
        "f = partial(sq_dist_numpy_1, X=X)\n",
        "gradient_f = partial(sq_dist_gradient_numpy_1, X=X)\n",
        "init_x = np.array([0.,0.])\n",
        "step_sizes_set = [np.array([10]),\n",
        "                  np.array([0.1]),\n",
        "                  np.array([0.01]),\n",
        "                  np.array([0.001]), \n",
        "                  np.array([0.0001]),\n",
        "                  np.array([0.00001]),\n",
        "                  np.array(np.logspace(-3,3,7))\n",
        "                 ]\n",
        "\n",
        "for step_sizes in step_sizes_set:\n",
        "    print()\n",
        "    print('+'*10 + ' Test case {} '.format(step_sizes) + '+'*10)\n",
        "    solution, epoch = minimize_batch_enhanced(f, gradient_f, init_x, step_sizes)\n",
        "    ### correctness check\n",
        "    if solution is None:\n",
        "        print('Does not converge within epoch {}'.format(epoch))\n",
        "    else:\n",
        "        print('Solution {} found at epoch {}'.format(solution, epoch))\n",
        "        EPSILON = 1\n",
        "        cond1 = math.fabs(solution[0] - 100.0) <= EPSILON\n",
        "        cond2 = math.fabs(solution[1] - 700.0) <= EPSILON\n",
        "        assert  all([cond1, cond2]), 'Problem 5 check failed'\n",
        "        print('Problem 5 check passed')"
      ]
    },
    {
      "cell_type": "markdown",
      "metadata": {
        "id": "8pF4aD15y7zx"
      },
      "source": [
        "Your solution should be like:\n",
        "```\n",
        "++++++++++ Test case [10] ++++++++++\n",
        "...\n",
        "Numpy overflow warning\n",
        "...\n",
        "Does not converge within epoch 10000\n",
        "\n",
        "++++++++++ Test case [0.1] ++++++++++\n",
        "Solution [ 99.78244401 699.89962643] found at epoch 59\n",
        "Problem 5 check passed\n",
        "\n",
        "++++++++++ Test case [0.01] ++++++++++\n",
        "Solution [ 99.78192923 699.8960156 ] found at epoch 587\n",
        "Problem 5 check passed\n",
        "\n",
        "++++++++++ Test case [0.001] ++++++++++\n",
        "Solution [ 99.78040508 699.88532482] found at epoch 5349\n",
        "Problem 5 check passed\n",
        "\n",
        "++++++++++ Test case [0.0001] ++++++++++\n",
        "Does not converge within epoch 10000\n",
        "\n",
        "++++++++++ Test case [1.e-05] ++++++++++\n",
        "Does not converge within epoch 10000\n",
        "\n",
        "++++++++++ Test case [1.e-03 1.e-02 1.e-01 1.e+00 1.e+01 1.e+02 1.e+03] ++++++++++\n",
        "Solution [ 99.78244401 699.89962643] found at epoch 59\n",
        "Problem 5 check passed\n",
        "```"
      ]
    },
    {
      "cell_type": "markdown",
      "metadata": {
        "id": "XPVkL7-Ay7zx"
      },
      "source": [
        "### Double click this cell to edit:\n",
        "\n",
        "What is your conclusion from experiments with the above several test cases?\n",
        "```\n",
        "Write here\n",
        "\n",
        "\n",
        "\n",
        "\n",
        "```\n",
        "\n"
      ]
    },
    {
      "cell_type": "markdown",
      "metadata": {
        "id": "o4FuhImfy7zx"
      },
      "source": [
        "## Ethics:\n",
        "If you cheat, you will get negatgive of the total points.\n",
        "If the homework total is 22 and you cheat, you get -22."
      ]
    },
    {
      "cell_type": "markdown",
      "metadata": {
        "id": "hqmZ0S0Ky7zy"
      },
      "source": [
        "## What to submit\n",
        "\n",
        "- Run **all cells** after restarting the kernel\n",
        "- Goto \"File -> Print Preview\"\n",
        "- Print the page as pdf\n",
        "- Pdf file name must be in a form of: homework_3_홍길동_202200001.pdf\n",
        "- Submit the pdf file in google classroom\n",
        "- No late homeworks will be accepted\n",
        "- Your homework will be graded on the basis of correctness and programming skills"
      ]
    }
  ],
  "metadata": {
    "hide_input": false,
    "kernelspec": {
      "display_name": "Python 3",
      "language": "python",
      "name": "python3"
    },
    "language_info": {
      "codemirror_mode": {
        "name": "ipython",
        "version": 3
      },
      "file_extension": ".py",
      "mimetype": "text/x-python",
      "name": "python",
      "nbconvert_exporter": "python",
      "pygments_lexer": "ipython3",
      "version": "3.7.3"
    },
    "colab": {
      "name": "homework_3_2022.ipynb",
      "provenance": []
    }
  },
  "nbformat": 4,
  "nbformat_minor": 0
}